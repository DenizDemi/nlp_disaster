{
 "cells": [
  {
   "cell_type": "markdown",
   "id": "373ba893-72d7-439d-a782-0ebc7d4aa097",
   "metadata": {},
   "source": [
    "# NLP Disaster Tweets Kaggle Mini-Project\n",
    "## Introduction\n",
    "The aim of this project is to build a deep learning model that predicts which Tweets are about real disasters and which one’s are not. The data set and challenge is provided by \"Natural Language Processing with Disaster Tweets\" kaggle competition. We will perform data cleaning, exploratory data analysis, implement RNN using keras library, build and evaluate our models."
   ]
  },
  {
   "cell_type": "markdown",
   "id": "34ab311e-4d71-41d1-8ce2-60d769e05a97",
   "metadata": {},
   "source": [
    "## Data Source\n",
    "Data is available at https://www.kaggle.com/c/nlp-getting-started/data and consists of train.csv and test.csv files.\n",
    "\n",
    "Each sample has the text of a tweet, a keyword from that tweet and location that tweet was sent from. \n",
    "\n",
    "Columns in the data are:\n",
    "* id - a unique identifier for each tweet\n",
    "* text - the text of the tweet\n",
    "* location - the location the tweet was sent from (may be blank)\n",
    "* keyword - a particular keyword from the tweet (may be blank)\n",
    "* target - in train.csv only, this denotes whether a tweet is about a real disaster (1) or not (0)"
   ]
  },
  {
   "cell_type": "markdown",
   "id": "e26a7a03-fbce-4e23-912c-1b4b872ef69c",
   "metadata": {},
   "source": [
    "## Importing Libraries\n",
    "We will start by importing necessary libraries. "
   ]
  },
  {
   "cell_type": "code",
   "execution_count": 259,
   "id": "6824bd26-7075-41eb-93f6-5c8d7645c06f",
   "metadata": {},
   "outputs": [],
   "source": [
    "import math\n",
    "from random import sample\n",
    "import re \n",
    "\n",
    "import numpy as np \n",
    "import pandas as pd \n",
    "\n",
    "\n",
    "import nltk \n",
    "from nltk.corpus import stopwords\n",
    "\n",
    "import tensorflow as tf\n",
    "from tensorflow.keras.models import Sequential \n",
    "from tensorflow.keras.layers import Dense, Activation, BatchNormalization, Dropout \n",
    "from tensorflow.python.keras.initializers import RandomNormal\n",
    "\n",
    "import keras\n",
    "import keras_tuner\n",
    "from keras import layers\n",
    "\n",
    "from sklearn.metrics import accuracy_score, f1_score\n",
    "from sklearn.feature_extraction.text import TfidfVectorizer\n",
    "from sklearn.linear_model import LogisticRegression\n",
    "\n",
    "import seaborn as sns\n",
    "import matplotlib.pyplot as plt\n",
    "\n",
    "from sklearn.model_selection import train_test_split"
   ]
  },
  {
   "cell_type": "markdown",
   "id": "d89ec38c-c951-4aa0-8ec0-442faf9cecfb",
   "metadata": {},
   "source": [
    "## Loading and Inspecting the Data\n",
    "Now we will load the training and test sets.\n",
    "There are 7613 rows and 5 columns in the training set."
   ]
  },
  {
   "cell_type": "code",
   "execution_count": 260,
   "id": "de815eaf-fefa-48bd-8279-304872847113",
   "metadata": {},
   "outputs": [
    {
     "data": {
      "text/plain": [
       "(7613, 5)"
      ]
     },
     "execution_count": 260,
     "metadata": {},
     "output_type": "execute_result"
    }
   ],
   "source": [
    "df_train = pd.read_csv(\"train.csv\")\n",
    "df_train.shape"
   ]
  },
  {
   "cell_type": "markdown",
   "id": "6571ba07-48a3-4b75-a791-b7dd387832b3",
   "metadata": {},
   "source": [
    "There are 3263 rows and 4 columns in the test set:"
   ]
  },
  {
   "cell_type": "code",
   "execution_count": 261,
   "id": "c01ad5dd-9afe-4143-a136-edbc843d0c0a",
   "metadata": {},
   "outputs": [
    {
     "data": {
      "text/plain": [
       "(3263, 4)"
      ]
     },
     "execution_count": 261,
     "metadata": {},
     "output_type": "execute_result"
    }
   ],
   "source": [
    "df_test = pd.read_csv(\"test.csv\")\n",
    "df_test.shape"
   ]
  },
  {
   "cell_type": "markdown",
   "id": "eebdd0ac-dade-4b56-a624-4169f223973f",
   "metadata": {},
   "source": [
    "Let's check the first few rows of training data:"
   ]
  },
  {
   "cell_type": "code",
   "execution_count": 262,
   "id": "688c5f8b-9d83-49a5-8712-bb8a7b6c2894",
   "metadata": {},
   "outputs": [
    {
     "data": {
      "text/html": [
       "<div>\n",
       "<style scoped>\n",
       "    .dataframe tbody tr th:only-of-type {\n",
       "        vertical-align: middle;\n",
       "    }\n",
       "\n",
       "    .dataframe tbody tr th {\n",
       "        vertical-align: top;\n",
       "    }\n",
       "\n",
       "    .dataframe thead th {\n",
       "        text-align: right;\n",
       "    }\n",
       "</style>\n",
       "<table border=\"1\" class=\"dataframe\">\n",
       "  <thead>\n",
       "    <tr style=\"text-align: right;\">\n",
       "      <th></th>\n",
       "      <th>id</th>\n",
       "      <th>keyword</th>\n",
       "      <th>location</th>\n",
       "      <th>text</th>\n",
       "      <th>target</th>\n",
       "    </tr>\n",
       "  </thead>\n",
       "  <tbody>\n",
       "    <tr>\n",
       "      <th>0</th>\n",
       "      <td>1</td>\n",
       "      <td>NaN</td>\n",
       "      <td>NaN</td>\n",
       "      <td>Our Deeds are the Reason of this #earthquake M...</td>\n",
       "      <td>1</td>\n",
       "    </tr>\n",
       "    <tr>\n",
       "      <th>1</th>\n",
       "      <td>4</td>\n",
       "      <td>NaN</td>\n",
       "      <td>NaN</td>\n",
       "      <td>Forest fire near La Ronge Sask. Canada</td>\n",
       "      <td>1</td>\n",
       "    </tr>\n",
       "    <tr>\n",
       "      <th>2</th>\n",
       "      <td>5</td>\n",
       "      <td>NaN</td>\n",
       "      <td>NaN</td>\n",
       "      <td>All residents asked to 'shelter in place' are ...</td>\n",
       "      <td>1</td>\n",
       "    </tr>\n",
       "    <tr>\n",
       "      <th>3</th>\n",
       "      <td>6</td>\n",
       "      <td>NaN</td>\n",
       "      <td>NaN</td>\n",
       "      <td>13,000 people receive #wildfires evacuation or...</td>\n",
       "      <td>1</td>\n",
       "    </tr>\n",
       "    <tr>\n",
       "      <th>4</th>\n",
       "      <td>7</td>\n",
       "      <td>NaN</td>\n",
       "      <td>NaN</td>\n",
       "      <td>Just got sent this photo from Ruby #Alaska as ...</td>\n",
       "      <td>1</td>\n",
       "    </tr>\n",
       "  </tbody>\n",
       "</table>\n",
       "</div>"
      ],
      "text/plain": [
       "   id keyword location                                               text  \\\n",
       "0   1     NaN      NaN  Our Deeds are the Reason of this #earthquake M...   \n",
       "1   4     NaN      NaN             Forest fire near La Ronge Sask. Canada   \n",
       "2   5     NaN      NaN  All residents asked to 'shelter in place' are ...   \n",
       "3   6     NaN      NaN  13,000 people receive #wildfires evacuation or...   \n",
       "4   7     NaN      NaN  Just got sent this photo from Ruby #Alaska as ...   \n",
       "\n",
       "   target  \n",
       "0       1  \n",
       "1       1  \n",
       "2       1  \n",
       "3       1  \n",
       "4       1  "
      ]
     },
     "execution_count": 262,
     "metadata": {},
     "output_type": "execute_result"
    }
   ],
   "source": [
    "df_train.head()"
   ]
  },
  {
   "cell_type": "markdown",
   "id": "9754a5ca-6961-4538-a9d7-a0a9b24cd513",
   "metadata": {},
   "source": [
    "When we check the test data we can see that there is no target column which we are supposed to predict:"
   ]
  },
  {
   "cell_type": "code",
   "execution_count": 263,
   "id": "4b9c47d2-f73f-437e-afc8-151edd509596",
   "metadata": {},
   "outputs": [
    {
     "data": {
      "text/html": [
       "<div>\n",
       "<style scoped>\n",
       "    .dataframe tbody tr th:only-of-type {\n",
       "        vertical-align: middle;\n",
       "    }\n",
       "\n",
       "    .dataframe tbody tr th {\n",
       "        vertical-align: top;\n",
       "    }\n",
       "\n",
       "    .dataframe thead th {\n",
       "        text-align: right;\n",
       "    }\n",
       "</style>\n",
       "<table border=\"1\" class=\"dataframe\">\n",
       "  <thead>\n",
       "    <tr style=\"text-align: right;\">\n",
       "      <th></th>\n",
       "      <th>id</th>\n",
       "      <th>keyword</th>\n",
       "      <th>location</th>\n",
       "      <th>text</th>\n",
       "    </tr>\n",
       "  </thead>\n",
       "  <tbody>\n",
       "    <tr>\n",
       "      <th>0</th>\n",
       "      <td>0</td>\n",
       "      <td>NaN</td>\n",
       "      <td>NaN</td>\n",
       "      <td>Just happened a terrible car crash</td>\n",
       "    </tr>\n",
       "    <tr>\n",
       "      <th>1</th>\n",
       "      <td>2</td>\n",
       "      <td>NaN</td>\n",
       "      <td>NaN</td>\n",
       "      <td>Heard about #earthquake is different cities, s...</td>\n",
       "    </tr>\n",
       "    <tr>\n",
       "      <th>2</th>\n",
       "      <td>3</td>\n",
       "      <td>NaN</td>\n",
       "      <td>NaN</td>\n",
       "      <td>there is a forest fire at spot pond, geese are...</td>\n",
       "    </tr>\n",
       "    <tr>\n",
       "      <th>3</th>\n",
       "      <td>9</td>\n",
       "      <td>NaN</td>\n",
       "      <td>NaN</td>\n",
       "      <td>Apocalypse lighting. #Spokane #wildfires</td>\n",
       "    </tr>\n",
       "    <tr>\n",
       "      <th>4</th>\n",
       "      <td>11</td>\n",
       "      <td>NaN</td>\n",
       "      <td>NaN</td>\n",
       "      <td>Typhoon Soudelor kills 28 in China and Taiwan</td>\n",
       "    </tr>\n",
       "  </tbody>\n",
       "</table>\n",
       "</div>"
      ],
      "text/plain": [
       "   id keyword location                                               text\n",
       "0   0     NaN      NaN                 Just happened a terrible car crash\n",
       "1   2     NaN      NaN  Heard about #earthquake is different cities, s...\n",
       "2   3     NaN      NaN  there is a forest fire at spot pond, geese are...\n",
       "3   9     NaN      NaN           Apocalypse lighting. #Spokane #wildfires\n",
       "4  11     NaN      NaN      Typhoon Soudelor kills 28 in China and Taiwan"
      ]
     },
     "execution_count": 263,
     "metadata": {},
     "output_type": "execute_result"
    }
   ],
   "source": [
    "df_test.head()"
   ]
  },
  {
   "cell_type": "markdown",
   "id": "96297abb-eebc-4ade-b1b2-29a08913da62",
   "metadata": {},
   "source": [
    "## Exploratory Data Analysis\n",
    "We will further explore our training and testing data sets. \n",
    "\n",
    "We can see below that \"keyword\" and \"location\" columns have many missing values in both training and testing data sets. However \"text\" and \"target\" in training data set and \"text\" in testing data set have no missing values, which are important for us. We will continue our analysis with these."
   ]
  },
  {
   "cell_type": "code",
   "execution_count": 264,
   "id": "612a95e9-4cdc-4aab-8d9d-f3acc3523ea3",
   "metadata": {},
   "outputs": [
    {
     "name": "stdout",
     "output_type": "stream",
     "text": [
      "<class 'pandas.core.frame.DataFrame'>\n",
      "RangeIndex: 7613 entries, 0 to 7612\n",
      "Data columns (total 5 columns):\n",
      " #   Column    Non-Null Count  Dtype \n",
      "---  ------    --------------  ----- \n",
      " 0   id        7613 non-null   int64 \n",
      " 1   keyword   7552 non-null   object\n",
      " 2   location  5080 non-null   object\n",
      " 3   text      7613 non-null   object\n",
      " 4   target    7613 non-null   int64 \n",
      "dtypes: int64(2), object(3)\n",
      "memory usage: 297.5+ KB\n"
     ]
    }
   ],
   "source": [
    "df_train.info()"
   ]
  },
  {
   "cell_type": "code",
   "execution_count": 265,
   "id": "73246604-e21a-4515-9d6b-c677babdbf49",
   "metadata": {},
   "outputs": [
    {
     "name": "stdout",
     "output_type": "stream",
     "text": [
      "<class 'pandas.core.frame.DataFrame'>\n",
      "RangeIndex: 3263 entries, 0 to 3262\n",
      "Data columns (total 4 columns):\n",
      " #   Column    Non-Null Count  Dtype \n",
      "---  ------    --------------  ----- \n",
      " 0   id        3263 non-null   int64 \n",
      " 1   keyword   3237 non-null   object\n",
      " 2   location  2158 non-null   object\n",
      " 3   text      3263 non-null   object\n",
      "dtypes: int64(1), object(3)\n",
      "memory usage: 102.1+ KB\n"
     ]
    }
   ],
   "source": [
    "df_test.info()"
   ]
  },
  {
   "cell_type": "markdown",
   "id": "7f551bd0-ee6d-470e-af04-b09c0af5daeb",
   "metadata": {},
   "source": [
    "Verifying that there are no missing target values in the training set:"
   ]
  },
  {
   "cell_type": "code",
   "execution_count": 266,
   "id": "19b05a59-da29-493c-8ae9-1038cab3fb25",
   "metadata": {},
   "outputs": [
    {
     "data": {
      "text/plain": [
       "0"
      ]
     },
     "execution_count": 266,
     "metadata": {},
     "output_type": "execute_result"
    }
   ],
   "source": [
    "df_train['target'].isna().sum()"
   ]
  },
  {
   "cell_type": "markdown",
   "id": "0fa491c6-034d-4c08-b0c1-9204bb331cac",
   "metadata": {},
   "source": [
    "Let's check the length of the texts:"
   ]
  },
  {
   "cell_type": "code",
   "execution_count": 267,
   "id": "4bc07da5-c55f-43b6-9ca9-905e59c01287",
   "metadata": {},
   "outputs": [
    {
     "data": {
      "text/plain": [
       "count    7613.000000\n",
       "mean       14.903586\n",
       "std         5.732604\n",
       "min         1.000000\n",
       "25%        11.000000\n",
       "50%        15.000000\n",
       "75%        19.000000\n",
       "max        31.000000\n",
       "Name: text, dtype: float64"
      ]
     },
     "execution_count": 267,
     "metadata": {},
     "output_type": "execute_result"
    }
   ],
   "source": [
    "df_train['text'].str.split().apply(len).describe()"
   ]
  },
  {
   "cell_type": "markdown",
   "id": "010e8f6e-97be-4edb-830a-0149617861d8",
   "metadata": {},
   "source": [
    "Since there are too many missing values in keyword and location columns, we will drop those."
   ]
  },
  {
   "cell_type": "code",
   "execution_count": 268,
   "id": "141efd61-6570-40e9-9336-72687ecea212",
   "metadata": {},
   "outputs": [],
   "source": [
    "cols_drop = [\"keyword\", \"location\"]\n",
    "df_train = df_train.drop(cols_drop, axis=1)\n",
    "df_test = df_test.drop(cols_drop, axis=1)"
   ]
  },
  {
   "cell_type": "markdown",
   "id": "8c74ce90-cfd3-4c9d-be51-770ae6d12695",
   "metadata": {},
   "source": [
    "Let's check that it worked:"
   ]
  },
  {
   "cell_type": "code",
   "execution_count": 269,
   "id": "065b98ef-3ade-4500-a541-dbd8f685708f",
   "metadata": {},
   "outputs": [
    {
     "data": {
      "text/html": [
       "<div>\n",
       "<style scoped>\n",
       "    .dataframe tbody tr th:only-of-type {\n",
       "        vertical-align: middle;\n",
       "    }\n",
       "\n",
       "    .dataframe tbody tr th {\n",
       "        vertical-align: top;\n",
       "    }\n",
       "\n",
       "    .dataframe thead th {\n",
       "        text-align: right;\n",
       "    }\n",
       "</style>\n",
       "<table border=\"1\" class=\"dataframe\">\n",
       "  <thead>\n",
       "    <tr style=\"text-align: right;\">\n",
       "      <th></th>\n",
       "      <th>id</th>\n",
       "      <th>text</th>\n",
       "      <th>target</th>\n",
       "    </tr>\n",
       "  </thead>\n",
       "  <tbody>\n",
       "    <tr>\n",
       "      <th>0</th>\n",
       "      <td>1</td>\n",
       "      <td>Our Deeds are the Reason of this #earthquake M...</td>\n",
       "      <td>1</td>\n",
       "    </tr>\n",
       "    <tr>\n",
       "      <th>1</th>\n",
       "      <td>4</td>\n",
       "      <td>Forest fire near La Ronge Sask. Canada</td>\n",
       "      <td>1</td>\n",
       "    </tr>\n",
       "    <tr>\n",
       "      <th>2</th>\n",
       "      <td>5</td>\n",
       "      <td>All residents asked to 'shelter in place' are ...</td>\n",
       "      <td>1</td>\n",
       "    </tr>\n",
       "    <tr>\n",
       "      <th>3</th>\n",
       "      <td>6</td>\n",
       "      <td>13,000 people receive #wildfires evacuation or...</td>\n",
       "      <td>1</td>\n",
       "    </tr>\n",
       "    <tr>\n",
       "      <th>4</th>\n",
       "      <td>7</td>\n",
       "      <td>Just got sent this photo from Ruby #Alaska as ...</td>\n",
       "      <td>1</td>\n",
       "    </tr>\n",
       "  </tbody>\n",
       "</table>\n",
       "</div>"
      ],
      "text/plain": [
       "   id                                               text  target\n",
       "0   1  Our Deeds are the Reason of this #earthquake M...       1\n",
       "1   4             Forest fire near La Ronge Sask. Canada       1\n",
       "2   5  All residents asked to 'shelter in place' are ...       1\n",
       "3   6  13,000 people receive #wildfires evacuation or...       1\n",
       "4   7  Just got sent this photo from Ruby #Alaska as ...       1"
      ]
     },
     "execution_count": 269,
     "metadata": {},
     "output_type": "execute_result"
    }
   ],
   "source": [
    "df_train.head()"
   ]
  },
  {
   "cell_type": "markdown",
   "id": "aa539db5-3bf9-4fb4-b58b-db0d5830c364",
   "metadata": {},
   "source": [
    "### Data Visualizations"
   ]
  },
  {
   "cell_type": "markdown",
   "id": "3e128f69-45fa-43ac-aa18-7376cf7c4922",
   "metadata": {},
   "source": [
    "Here we will visualize the distribution of the target value, 0 or 1:"
   ]
  },
  {
   "cell_type": "code",
   "execution_count": 270,
   "id": "bd7a72a6-722f-47e5-bb5a-edaaec764b88",
   "metadata": {},
   "outputs": [
    {
     "data": {
      "image/png": "[encoded data removed]",
      "text/plain": [
       "<Figure size 640x480 with 1 Axes>"
      ]
     },
     "metadata": {},
     "output_type": "display_data"
    }
   ],
   "source": [
    "sns.countplot(x='target', data=df_train)\n",
    "plt.title('Distribution of Target')\n",
    "plt.show()"
   ]
  },
  {
   "cell_type": "markdown",
   "id": "b4454ffd-379d-4311-95de-8c013f303cee",
   "metadata": {},
   "source": [
    "Here is a histogram of text length of tweets:"
   ]
  },
  {
   "cell_type": "code",
   "execution_count": 271,
   "id": "f8ce502a-0098-4653-8e64-9a26c997685f",
   "metadata": {},
   "outputs": [
    {
     "data": {
      "text/plain": [
       "<Axes: >"
      ]
     },
     "execution_count": 271,
     "metadata": {},
     "output_type": "execute_result"
    },
    {
     "data": {
      "image/png": "[encoded data removed]",
      "text/plain": [
       "<Figure size 640x480 with 1 Axes>"
      ]
     },
     "metadata": {},
     "output_type": "display_data"
    }
   ],
   "source": [
    "df_train['text'].str.len().hist()"
   ]
  },
  {
   "cell_type": "markdown",
   "id": "4acc657c-c857-430e-a406-c50279bf9b18",
   "metadata": {},
   "source": [
    "### Data Cleaning\n",
    "We will clean and prepare the text by removing stop words, converting to lower case, removing urls etc."
   ]
  },
  {
   "cell_type": "code",
   "execution_count": 272,
   "id": "7700648f-c7d0-453f-9b24-d3c8b2cee1d5",
   "metadata": {},
   "outputs": [
    {
     "name": "stderr",
     "output_type": "stream",
     "text": [
      "[nltk_data] Downloading package stopwords to /Users/deniz/nltk_data...\n",
      "[nltk_data]   Package stopwords is already up-to-date!\n"
     ]
    }
   ],
   "source": [
    "nltk.download('stopwords')\n",
    "stop_words = stopwords.words('english')"
   ]
  },
  {
   "cell_type": "code",
   "execution_count": 273,
   "id": "339d3906-65ca-4b03-9f81-28a08aab70a2",
   "metadata": {},
   "outputs": [],
   "source": [
    "def clean_text(text):\n",
    "    text = text.lower()\n",
    "    text = re.sub(r'\\W', ' ', text)\n",
    "    text = re.sub(r'\\s+', ' ', text)\n",
    "    text = re.sub(r'(https|http)?:\\/\\/(\\w|\\.|\\/|\\?|\\=|\\&|\\%|\\-)*\\b', '', text)\n",
    "    text = ' '.join([word for word in text.split() if word not in stop_words])\n",
    "    return text\n",
    "\n",
    "df_train[\"text\"]= df_train[\"text\"].apply(clean_text)\n",
    "df_test[\"text\"] = df_test[\"text\"].apply(clean_text)"
   ]
  },
  {
   "cell_type": "markdown",
   "id": "4d945346-26ec-42da-8e51-6dd84a89e49a",
   "metadata": {},
   "source": [
    "Check the first few rows after cleaning:"
   ]
  },
  {
   "cell_type": "code",
   "execution_count": 274,
   "id": "f5bac51b-050b-4602-aa28-d0ffbb7f98d5",
   "metadata": {},
   "outputs": [
    {
     "data": {
      "text/html": [
       "<div>\n",
       "<style scoped>\n",
       "    .dataframe tbody tr th:only-of-type {\n",
       "        vertical-align: middle;\n",
       "    }\n",
       "\n",
       "    .dataframe tbody tr th {\n",
       "        vertical-align: top;\n",
       "    }\n",
       "\n",
       "    .dataframe thead th {\n",
       "        text-align: right;\n",
       "    }\n",
       "</style>\n",
       "<table border=\"1\" class=\"dataframe\">\n",
       "  <thead>\n",
       "    <tr style=\"text-align: right;\">\n",
       "      <th></th>\n",
       "      <th>id</th>\n",
       "      <th>text</th>\n",
       "      <th>target</th>\n",
       "    </tr>\n",
       "  </thead>\n",
       "  <tbody>\n",
       "    <tr>\n",
       "      <th>0</th>\n",
       "      <td>1</td>\n",
       "      <td>deeds reason earthquake may allah forgive us</td>\n",
       "      <td>1</td>\n",
       "    </tr>\n",
       "    <tr>\n",
       "      <th>1</th>\n",
       "      <td>4</td>\n",
       "      <td>forest fire near la ronge sask canada</td>\n",
       "      <td>1</td>\n",
       "    </tr>\n",
       "    <tr>\n",
       "      <th>2</th>\n",
       "      <td>5</td>\n",
       "      <td>residents asked shelter place notified officer...</td>\n",
       "      <td>1</td>\n",
       "    </tr>\n",
       "    <tr>\n",
       "      <th>3</th>\n",
       "      <td>6</td>\n",
       "      <td>13 000 people receive wildfires evacuation ord...</td>\n",
       "      <td>1</td>\n",
       "    </tr>\n",
       "    <tr>\n",
       "      <th>4</th>\n",
       "      <td>7</td>\n",
       "      <td>got sent photo ruby alaska smoke wildfires pou...</td>\n",
       "      <td>1</td>\n",
       "    </tr>\n",
       "  </tbody>\n",
       "</table>\n",
       "</div>"
      ],
      "text/plain": [
       "   id                                               text  target\n",
       "0   1       deeds reason earthquake may allah forgive us       1\n",
       "1   4              forest fire near la ronge sask canada       1\n",
       "2   5  residents asked shelter place notified officer...       1\n",
       "3   6  13 000 people receive wildfires evacuation ord...       1\n",
       "4   7  got sent photo ruby alaska smoke wildfires pou...       1"
      ]
     },
     "execution_count": 274,
     "metadata": {},
     "output_type": "execute_result"
    }
   ],
   "source": [
    "df_train.head()"
   ]
  },
  {
   "cell_type": "markdown",
   "id": "8f857ecd-e9d7-4636-8cc4-da30e8fa09ea",
   "metadata": {},
   "source": [
    "### Extracting Word Features with TF-ID\n",
    "To process text into matrix form we will use TF-IDF. TF-IDF stands for Term Frequency Inverse Document Frequency of records. It is a measure of importance of a word to a document adjusted for how frequent that word occurs in general. Here we are going to use TfidVectorizer from sklearn.\n",
    "Later for RNN we will use its Keras' encoder."
   ]
  },
  {
   "cell_type": "code",
   "execution_count": 275,
   "id": "6e1fd429-406d-4dd3-83bf-f56bb5f12c51",
   "metadata": {},
   "outputs": [],
   "source": [
    "train_list = df_train[\"text\"].tolist()\n",
    "y = df_train[\"target\"]\n",
    "\n",
    "vectorizer = TfidfVectorizer(min_df = 0.0005, \n",
    "                             max_features = 10000, \n",
    "                             ngram_range = (1,4))\n",
    "\n",
    "vec_fit = vectorizer.fit(train_list)\n",
    "\n",
    "train = vec_fit.transform(df_train[\"text\"])\n"
   ]
  },
  {
   "cell_type": "markdown",
   "id": "01016830-fd0d-4db3-a6d9-2994fd942481",
   "metadata": {},
   "source": [
    "Split the data into training and validation sets:"
   ]
  },
  {
   "cell_type": "code",
   "execution_count": 276,
   "id": "a94edaa0-d180-42aa-9719-5ecbfa4573d2",
   "metadata": {},
   "outputs": [],
   "source": [
    "X_train, X_val, y_train, y_val = train_test_split(train, y, test_size = 0.2 , random_state=42)\n",
    "\n",
    "X_test = vec_fit.transform(df_test[\"text\"])\n"
   ]
  },
  {
   "cell_type": "markdown",
   "id": "6dd26249-c792-4711-9d8e-9fbb87b85eb3",
   "metadata": {},
   "source": [
    "# Modeling\n",
    "Before developing our deep learning model we will take a look at a Logistic Regression Model so that we have something to compare to. Then we will try an RNN model with LTSM. Later we will use hyperparameter tuning to see if we can improve on our RNN model. "
   ]
  },
  {
   "cell_type": "markdown",
   "id": "55734371-d85e-49d8-819c-3163755e4368",
   "metadata": {},
   "source": [
    "## Logistic Regression Model for Baseline comparison\n",
    "Before we start with our RNN model we will train a simple Logistic Regression model for baseline comparison. "
   ]
  },
  {
   "cell_type": "code",
   "execution_count": 277,
   "id": "547c4018-63d2-4b1c-8be5-bf00f806cf53",
   "metadata": {},
   "outputs": [
    {
     "name": "stdout",
     "output_type": "stream",
     "text": [
      "Logistic Regression Model Validation Acuracy 0.8017071569271176\n",
      "Logistic Regression Model Validation F1 0.7495854063018242\n"
     ]
    }
   ],
   "source": [
    "lr_model = LogisticRegression(C = 1, penalty = 'l2')\n",
    "\n",
    "lr_model.fit(X_train, y_train)\n",
    "\n",
    "lr_pred = lr_model.predict(X_val)\n",
    "print(\"Logistic Regression Model Validation Acuracy\", accuracy_score(y_val, lr_pred))\n",
    "print(\"Logistic Regression Model Validation F1\", f1_score(y_val, lr_pred))"
   ]
  },
  {
   "cell_type": "markdown",
   "id": "1b9138a0-6682-49a6-a776-7f21c8431700",
   "metadata": {},
   "source": [
    "We achieved 0.80 accuracy with Logistic Regression."
   ]
  },
  {
   "cell_type": "markdown",
   "id": "fd5adbd0-5c3d-445c-96ef-896effcdd9b0",
   "metadata": {},
   "source": [
    "## RNN Model First Try\n",
    "For our RNN model, we will closely follow the architecture in the article \"Text classification with an RNN\" https://www.tensorflow.org/text/tutorials/text_classification_rnn\n",
    "\n",
    "This picture is from above mentioned article:\n",
    "\n",
    "<img src=\"https://www.tensorflow.org/static/text/tutorials/images/bidirectional.png\" alt=\"bidirectional\" class=\"bg-primary mb-1\" width=\"500px\">\n",
    "\n",
    "* The model is build as a tf.keras.Sequential\n",
    "* The first layer is the encoder, which converts the text to a sequence of token indices.\n",
    "* After the encoder is an embedding layer. An embedding layer stores one vector per word. When called, it converts the sequences of word indices to sequences of vectors. These vectors are trainable. After training (on enough data), words with similar meanings often have similar vectors.\n",
    "* A recurrent neural network (RNN) processes sequence input by iterating through the elements. RNNs pass the outputs from one timestep to their input on the next timestep.\n",
    "* The tf.keras.layers.Bidirectional wrapper is used with RNN layer. This propagates the input forward and backwards through the RNN layer and then concatenates the final output.\n",
    "* After the RNN has converted the sequence to a single vector the two layers.Dense do some final processing, and convert from this vector representation to a single classification output.\n",
    "\n",
    "The only thing changed in this model from tensorflow article is that adding sigmoid activation to the last Dense layer for binary classification output.\n",
    "\n"
   ]
  },
  {
   "cell_type": "markdown",
   "id": "5237009d-24dc-4d72-82cc-7b4850aaf6c5",
   "metadata": {},
   "source": [
    "### Converting Data into TensorFlow Format\n",
    "We will also need convert our pandas data frames into tensorflow format. This article was helpful for preparing training, validation and test datasets for tensorflow: https://medium.com/when-i-work-data/converting-a-pandas-dataframe-into-a-tensorflow-dataset-752f3783c168"
   ]
  },
  {
   "cell_type": "code",
   "execution_count": 278,
   "id": "a92a87a6-078a-4047-965e-3b81fcd3e25f",
   "metadata": {},
   "outputs": [],
   "source": [
    "### Converting data into tensorflow format\n",
    "\n",
    "# %80 of training data will be used as training set, %20 for validation\n",
    "train_size = 0.8\n",
    "n = df_train.shape[0]\n",
    "ntrain = math.floor(train_size * n)\n",
    "train_set = sample([i for i in range(n)], ntrain)\n",
    "val_set = [i for i in range(n) if not i in train_set]\n",
    "\n",
    "train = df_train.iloc[train_set]\n",
    "valid = df_train.iloc[val_set]\n",
    "\n",
    "\n",
    "# preparing datasets for tensorflow\n",
    "train_dataset = (\n",
    "    tf.data.Dataset.from_tensor_slices(\n",
    "        (\n",
    "            tf.cast(train[\"text\"].values, tf.string),\n",
    "            tf.cast(train[\"target\"].values, tf.int32)\n",
    "        )\n",
    "    )\n",
    ")\n",
    "\n",
    "validation_dataset = (\n",
    "    tf.data.Dataset.from_tensor_slices(\n",
    "        (\n",
    "            tf.cast(valid[\"text\"].values, tf.string),\n",
    "            tf.cast(valid['target'].values, tf.int32)\n",
    "        )\n",
    "    )\n",
    ")\n",
    "\n",
    "test_dataset = (\n",
    "    tf.data.Dataset.from_tensor_slices(\n",
    "        (\n",
    "            tf.cast(df_test[\"text\"].values, tf.string)\n",
    "        )\n",
    "    )\n",
    ")\n"
   ]
  },
  {
   "cell_type": "markdown",
   "id": "78f360e0-f344-4775-b609-c6472ae6c4e8",
   "metadata": {},
   "source": [
    "### Create Batches of Text and Labels\n",
    "We will shuffle the data for training and create batches of these (text, label) pairs:\n"
   ]
  },
  {
   "cell_type": "code",
   "execution_count": 279,
   "id": "d31d3b8d-8e2e-4b7f-8acf-b56bb7c9c886",
   "metadata": {},
   "outputs": [],
   "source": [
    "BUFFER_SIZE = 10000\n",
    "BATCH_SIZE = 64\n",
    "\n",
    "train_dataset = train_dataset.shuffle(BUFFER_SIZE).batch(BATCH_SIZE)\n",
    "validation_dataset = validation_dataset.batch(BATCH_SIZE)\n",
    "test_dataset = test_dataset.padded_batch(BATCH_SIZE, padding_values = ' ')\n"
   ]
  },
  {
   "cell_type": "code",
   "execution_count": 280,
   "id": "b3e97cff-93b8-497c-88e8-633a36d7223b",
   "metadata": {},
   "outputs": [
    {
     "name": "stderr",
     "output_type": "stream",
     "text": [
      "2024-06-13 00:14:37.853155: W tensorflow/core/framework/local_rendezvous.cc:404] Local rendezvous is aborting with status: OUT_OF_RANGE: End of sequence\n"
     ]
    }
   ],
   "source": [
    "VOCAB_SIZE = 1000\n",
    "encoder = tf.keras.layers.TextVectorization(\n",
    "    max_tokens=VOCAB_SIZE)\n",
    "encoder.adapt(train_dataset.map(lambda text, label: text))"
   ]
  },
  {
   "cell_type": "markdown",
   "id": "3594d996-28b0-4721-bde8-a96a0306c0d0",
   "metadata": {},
   "source": [
    "Now we are finally ready for our RNN model:"
   ]
  },
  {
   "cell_type": "code",
   "execution_count": 281,
   "id": "18edb0be-9567-4809-96ac-be976d270467",
   "metadata": {},
   "outputs": [],
   "source": [
    "model = tf.keras.Sequential([\n",
    "    encoder,\n",
    "    tf.keras.layers.Embedding(\n",
    "        input_dim=len(encoder.get_vocabulary()),\n",
    "        output_dim=64,\n",
    "        # Use masking to handle the variable sequence lengths\n",
    "        mask_zero=True),\n",
    "    tf.keras.layers.Bidirectional(tf.keras.layers.LSTM(64)),\n",
    "    tf.keras.layers.Dense(64, activation='relu'),\n",
    "    tf.keras.layers.Dense(1, activation='sigmoid')\n",
    "])"
   ]
  },
  {
   "cell_type": "markdown",
   "id": "bad3bad9-318d-4733-b8ea-672bc19c3cc3",
   "metadata": {},
   "source": [
    "Compile the model with Adam optimizer:"
   ]
  },
  {
   "cell_type": "code",
   "execution_count": 282,
   "id": "747a658b-9e53-488c-a444-ad8131bf20cd",
   "metadata": {},
   "outputs": [],
   "source": [
    "model.compile(loss=tf.keras.losses.BinaryCrossentropy(),\n",
    "              optimizer=tf.keras.optimizers.Adam(1e-4),\n",
    "              metrics=['accuracy'])"
   ]
  },
  {
   "cell_type": "markdown",
   "id": "c83bad86-363d-4ecf-bc17-8487069aba24",
   "metadata": {},
   "source": [
    "Train the model on the training data set:"
   ]
  },
  {
   "cell_type": "code",
   "execution_count": 283,
   "id": "782e5a1c-3c7d-4e8e-a253-52566361de0a",
   "metadata": {},
   "outputs": [
    {
     "name": "stdout",
     "output_type": "stream",
     "text": [
      "Epoch 1/6\n",
      "\u001b[1m96/96\u001b[0m \u001b[32m━━━━━━━━━━━━━━━━━━━━\u001b[0m\u001b[37m\u001b[0m \u001b[1m21s\u001b[0m 171ms/step - accuracy: 0.5312 - loss: 0.6891 - val_accuracy: 0.5752 - val_loss: 0.6749\n",
      "Epoch 2/6\n",
      "\u001b[1m96/96\u001b[0m \u001b[32m━━━━━━━━━━━━━━━━━━━━\u001b[0m\u001b[37m\u001b[0m \u001b[1m11s\u001b[0m 114ms/step - accuracy: 0.5633 - loss: 0.6747 - val_accuracy: 0.6185 - val_loss: 0.6495\n",
      "Epoch 3/6\n",
      "\u001b[1m96/96\u001b[0m \u001b[32m━━━━━━━━━━━━━━━━━━━━\u001b[0m\u001b[37m\u001b[0m \u001b[1m11s\u001b[0m 114ms/step - accuracy: 0.6499 - loss: 0.6251 - val_accuracy: 0.7459 - val_loss: 0.5286\n",
      "Epoch 4/6\n",
      "\u001b[1m96/96\u001b[0m \u001b[32m━━━━━━━━━━━━━━━━━━━━\u001b[0m\u001b[37m\u001b[0m \u001b[1m11s\u001b[0m 112ms/step - accuracy: 0.7738 - loss: 0.4961 - val_accuracy: 0.7938 - val_loss: 0.4592\n",
      "Epoch 5/6\n",
      "\u001b[1m96/96\u001b[0m \u001b[32m━━━━━━━━━━━━━━━━━━━━\u001b[0m\u001b[37m\u001b[0m \u001b[1m11s\u001b[0m 116ms/step - accuracy: 0.8072 - loss: 0.4353 - val_accuracy: 0.7938 - val_loss: 0.4552\n",
      "Epoch 6/6\n",
      "\u001b[1m96/96\u001b[0m \u001b[32m━━━━━━━━━━━━━━━━━━━━\u001b[0m\u001b[37m\u001b[0m \u001b[1m11s\u001b[0m 113ms/step - accuracy: 0.8196 - loss: 0.4140 - val_accuracy: 0.7932 - val_loss: 0.4527\n"
     ]
    }
   ],
   "source": [
    "callbacks_list =  [tf.keras.callbacks.EarlyStopping(monitor=\"val_loss\", patience = 5, mode = \"min\")]\n",
    "\n",
    "history = model.fit(train_dataset, epochs = 6,\n",
    "                    validation_data = validation_dataset,\n",
    "                    callbacks = callbacks_list,\n",
    "                    verbose = 1)"
   ]
  },
  {
   "cell_type": "markdown",
   "id": "2ee60768-cf59-4174-9027-a023d2f5f1b1",
   "metadata": {},
   "source": [
    "### First RNN Model Evaluation"
   ]
  },
  {
   "cell_type": "markdown",
   "id": "09517f8b-1070-4e1c-8f6e-660a12332876",
   "metadata": {},
   "source": [
    "Accuracy on the validation data set is 0.7924"
   ]
  },
  {
   "cell_type": "code",
   "execution_count": 297,
   "id": "7b02851d-a9dc-48a6-a70f-e7cbf7f78466",
   "metadata": {},
   "outputs": [
    {
     "name": "stdout",
     "output_type": "stream",
     "text": [
      "\u001b[1m24/24\u001b[0m \u001b[32m━━━━━━━━━━━━━━━━━━━━\u001b[0m\u001b[37m\u001b[0m \u001b[1m4s\u001b[0m 108ms/step - accuracy: 0.7924 - loss: 0.4470\n"
     ]
    }
   ],
   "source": [
    "test_loss, test_acc = model.evaluate(validation_dataset)"
   ]
  },
  {
   "cell_type": "markdown",
   "id": "be9f9cf1-42d3-49a5-b35c-455e39cbd293",
   "metadata": {},
   "source": [
    "#### Accuracy and Loss Plots for Training and Validation"
   ]
  },
  {
   "cell_type": "code",
   "execution_count": 298,
   "id": "2ec18391-5172-4f05-b334-194cc7156163",
   "metadata": {},
   "outputs": [
    {
     "data": {
      "text/plain": [
       "<function matplotlib.pyplot.show(close=None, block=None)>"
      ]
     },
     "execution_count": 298,
     "metadata": {},
     "output_type": "execute_result"
    },
    {
     "data": {
      "image/png": "[encoded data removed]",
      "text/plain": [
       "<Figure size 1600x800 with 2 Axes>"
      ]
     },
     "metadata": {},
     "output_type": "display_data"
    }
   ],
   "source": [
    "plt.figure(figsize=(16, 8))\n",
    "plt.subplot(1, 2, 1)\n",
    "plt.title('RNN Model Accuracy per Epoch')\n",
    "plt.plot(np.arange(1,len(history.history['accuracy']) + 1), history.history['accuracy'])\n",
    "plt.plot(np.arange(1,len(history.history['val_accuracy']) + 1), history.history['val_accuracy'])\n",
    "plt.legend(['train', 'validate'], loc='upper left')\n",
    "\n",
    "plt.subplot(1, 2, 2)\n",
    "plt.title('RNN Model Loss per Epoch')\n",
    "plt.plot(np.arange(1,len(history.history['loss']) + 1), history.history['loss'])\n",
    "plt.plot(np.arange(1,len(history.history['val_loss']) + 1), history.history['val_loss'])\n",
    "plt.legend(['train', 'validate'], loc='upper left')\n",
    "plt.show"
   ]
  },
  {
   "cell_type": "markdown",
   "id": "a2d7d7d7-58d0-4378-b0e5-cfeb22b30e52",
   "metadata": {},
   "source": [
    "As can bee seen in the above plots, after 4 epochs accuracy for validation set levels off."
   ]
  },
  {
   "cell_type": "markdown",
   "id": "810ce0df-518e-438e-9429-5cb8fdf6328d",
   "metadata": {},
   "source": [
    "## RNN Model Improvement \n",
    "We will try improving our RNN Model's architecture by stacking more LTSM layers.\n",
    "\n",
    "According to \"Text classification with an RNN article\" at https://www.tensorflow.org/text/tutorials/text_classification_rnn:\n",
    "\n",
    "Keras recurrent layers have two available modes that are controlled by the return_sequences constructor argument:\n",
    "\n",
    "* If False it returns only the last output for each input sequence (a 2D tensor of shape (batch_size, output_features)). This is the default, used in the previous model.\n",
    "\n",
    "* If True the full sequences of successive outputs for each timestep is returned (a 3D tensor of shape (batch_size, timesteps, output_features)).\n",
    "\n",
    "Image from article for return_sequences=True:\n",
    "\n",
    "<img src=\"https://www.tensorflow.org/static/text/tutorials/images/layered_bidirectional.png\" alt=\"layered\" class=\"bg-primary mb-1\" width=\"500px\">\n",
    "\n",
    "We will try stacking LTSM layers. We will also try Dropouts and decide on roughly how many LTSM layers as a function of our dropout rate.\n"
   ]
  },
  {
   "cell_type": "markdown",
   "id": "cd0d1512-4611-414d-9bac-791d5487dfe4",
   "metadata": {},
   "source": [
    "### Hyperparameter Tuning\n",
    "We will perform hyperparameter tuning using keras_tuner. First we will define the hyperparameters to try. We will try different values for number of units, dropout values and learning rates. We will keep activation relu and optimizer adam to save time, however this code still takes considerable time."
   ]
  },
  {
   "cell_type": "code",
   "execution_count": 286,
   "id": "fcc38060-ba66-4560-9efb-6ad3361a1da4",
   "metadata": {},
   "outputs": [],
   "source": [
    "tf.random.set_seed(42)\n",
    "\n",
    "# Define the hyperparameters\n",
    "hp = keras_tuner.HyperParameters()\n",
    "\n",
    "hp.Int('n_units', 32, 64, 128)\n",
    "hp.Choice('activation', ['relu'])\n",
    "hp.Choice('optimizer', ['adam'])\n",
    "hp.Choice('dropout', [0.2, 0.5])\n",
    "hp.Choice('learning_rate', [0.00001 , 0.0001, 0.001])\n",
    "\n",
    "# Define the model builder function to pass to RandomSearch\n",
    "def build_model(hp):\n",
    "    new_model = keras.models.Sequential([\n",
    "        encoder,\n",
    "        tf.keras.layers.Embedding(\n",
    "            input_dim=len(encoder.get_vocabulary()),\n",
    "            output_dim= hp.get('n_units'),\n",
    "            # masking to handle the variable sequence lengths\n",
    "            mask_zero=True)])\n",
    "\n",
    "    ## Hidden Layers \n",
    "    # calculate number of hidden layers by dividing 1 (from original model) by dropout rate -1\n",
    "    n_hidden = math.floor(1 / hp.get('dropout')) - 1\n",
    "    for hlayer in range(n_hidden):\n",
    "        new_model.add(tf.keras.layers.Bidirectional(tf.keras.layers.LSTM(hp.get('n_units'), return_sequences=True)))\n",
    "    new_model.add(tf.keras.layers.Bidirectional(tf.keras.layers.LSTM(hp.get('n_units'))))  \n",
    "    new_model.add(keras.layers.Dense(units=hp.get('n_units'), activation = hp.get('activation')))\n",
    "    new_model.add(Dropout(hp.get('dropout')))        \n",
    "\n",
    "    # output layer\n",
    "    new_model.add(keras.layers.Dense(1, activation='sigmoid'))\n",
    "\n",
    "    opt = tf.keras.optimizers.Adam(learning_rate = hp.get('learning_rate'))\n",
    "\n",
    "    new_model.compile(optimizer=opt, loss='binary_crossentropy', metrics=['accuracy'])\n",
    "    return new_model\n"
   ]
  },
  {
   "cell_type": "markdown",
   "id": "7508557a-5c81-4ceb-acbf-58d9708337b5",
   "metadata": {},
   "source": [
    "We will use keras tuner RandomSearch for hyperparameter tuning."
   ]
  },
  {
   "cell_type": "code",
   "execution_count": 288,
   "id": "a2f27e57-4e95-4593-a2fe-f96802ae6908",
   "metadata": {},
   "outputs": [
    {
     "name": "stdout",
     "output_type": "stream",
     "text": [
      "Trial 6 Complete [00h 03m 24s]\n",
      "val_accuracy: 0.8030203580856323\n",
      "\n",
      "Best val_accuracy So Far: 0.8082731366157532\n",
      "Total elapsed time: 00h 37m 12s\n"
     ]
    }
   ],
   "source": [
    "# Create the Keras Tuner search space\n",
    "krs_tuner = keras_tuner.RandomSearch(build_model, hyperparameters=hp, objective='val_accuracy', max_trials=10)\n",
    "\n",
    "# Fit the tuner to the data\n",
    "krs_tuner.search(train_dataset, epochs = 6, \n",
    "             validation_data=validation_dataset,\n",
    "             callbacks=[keras.callbacks.EarlyStopping(patience=10)])\n",
    "\n",
    "# Get the best model\n",
    "best_model = krs_tuner.get_best_models(num_models=1)[0]"
   ]
  },
  {
   "cell_type": "code",
   "execution_count": 289,
   "id": "8a29b904-aa4c-43b6-b3b5-93aba136b092",
   "metadata": {},
   "outputs": [
    {
     "data": {
      "text/html": [
       "<pre style=\"white-space:pre;overflow-x:auto;line-height:normal;font-family:Menlo,'DejaVu Sans Mono',consolas,'Courier New',monospace\"><span style=\"font-weight: bold\">Model: \"sequential\"</span>\n",
       "</pre>\n"
      ],
      "text/plain": [
       "\u001b[1mModel: \"sequential\"\u001b[0m\n"
      ]
     },
     "metadata": {},
     "output_type": "display_data"
    },
    {
     "data": {
      "text/html": [
       "<pre style=\"white-space:pre;overflow-x:auto;line-height:normal;font-family:Menlo,'DejaVu Sans Mono',consolas,'Courier New',monospace\">┏━━━━━━━━━━━━━━━━━━━━━━━━━━━━━━━━━┳━━━━━━━━━━━━━━━━━━━━━━━━┳━━━━━━━━━━━━━━━┓\n",
       "┃<span style=\"font-weight: bold\"> Layer (type)                    </span>┃<span style=\"font-weight: bold\"> Output Shape           </span>┃<span style=\"font-weight: bold\">       Param # </span>┃\n",
       "┡━━━━━━━━━━━━━━━━━━━━━━━━━━━━━━━━━╇━━━━━━━━━━━━━━━━━━━━━━━━╇━━━━━━━━━━━━━━━┩\n",
       "│ text_vectorization_7            │ (<span style=\"color: #00d7ff; text-decoration-color: #00d7ff\">None</span>, <span style=\"color: #00d7ff; text-decoration-color: #00d7ff\">None</span>)           │             <span style=\"color: #00af00; text-decoration-color: #00af00\">0</span> │\n",
       "│ (<span style=\"color: #0087ff; text-decoration-color: #0087ff\">TextVectorization</span>)             │                        │               │\n",
       "├─────────────────────────────────┼────────────────────────┼───────────────┤\n",
       "│ embedding (<span style=\"color: #0087ff; text-decoration-color: #0087ff\">Embedding</span>)           │ (<span style=\"color: #00d7ff; text-decoration-color: #00d7ff\">None</span>, <span style=\"color: #00d7ff; text-decoration-color: #00d7ff\">None</span>, <span style=\"color: #00af00; text-decoration-color: #00af00\">32</span>)       │        <span style=\"color: #00af00; text-decoration-color: #00af00\">32,000</span> │\n",
       "├─────────────────────────────────┼────────────────────────┼───────────────┤\n",
       "│ bidirectional (<span style=\"color: #0087ff; text-decoration-color: #0087ff\">Bidirectional</span>)   │ (<span style=\"color: #00d7ff; text-decoration-color: #00d7ff\">None</span>, <span style=\"color: #00d7ff; text-decoration-color: #00d7ff\">None</span>, <span style=\"color: #00af00; text-decoration-color: #00af00\">64</span>)       │        <span style=\"color: #00af00; text-decoration-color: #00af00\">16,640</span> │\n",
       "├─────────────────────────────────┼────────────────────────┼───────────────┤\n",
       "│ bidirectional_1 (<span style=\"color: #0087ff; text-decoration-color: #0087ff\">Bidirectional</span>) │ (<span style=\"color: #00d7ff; text-decoration-color: #00d7ff\">None</span>, <span style=\"color: #00d7ff; text-decoration-color: #00d7ff\">None</span>, <span style=\"color: #00af00; text-decoration-color: #00af00\">64</span>)       │        <span style=\"color: #00af00; text-decoration-color: #00af00\">24,832</span> │\n",
       "├─────────────────────────────────┼────────────────────────┼───────────────┤\n",
       "│ bidirectional_2 (<span style=\"color: #0087ff; text-decoration-color: #0087ff\">Bidirectional</span>) │ (<span style=\"color: #00d7ff; text-decoration-color: #00d7ff\">None</span>, <span style=\"color: #00d7ff; text-decoration-color: #00d7ff\">None</span>, <span style=\"color: #00af00; text-decoration-color: #00af00\">64</span>)       │        <span style=\"color: #00af00; text-decoration-color: #00af00\">24,832</span> │\n",
       "├─────────────────────────────────┼────────────────────────┼───────────────┤\n",
       "│ bidirectional_3 (<span style=\"color: #0087ff; text-decoration-color: #0087ff\">Bidirectional</span>) │ (<span style=\"color: #00d7ff; text-decoration-color: #00d7ff\">None</span>, <span style=\"color: #00d7ff; text-decoration-color: #00d7ff\">None</span>, <span style=\"color: #00af00; text-decoration-color: #00af00\">64</span>)       │        <span style=\"color: #00af00; text-decoration-color: #00af00\">24,832</span> │\n",
       "├─────────────────────────────────┼────────────────────────┼───────────────┤\n",
       "│ bidirectional_4 (<span style=\"color: #0087ff; text-decoration-color: #0087ff\">Bidirectional</span>) │ (<span style=\"color: #00d7ff; text-decoration-color: #00d7ff\">None</span>, <span style=\"color: #00af00; text-decoration-color: #00af00\">64</span>)             │        <span style=\"color: #00af00; text-decoration-color: #00af00\">24,832</span> │\n",
       "├─────────────────────────────────┼────────────────────────┼───────────────┤\n",
       "│ dense (<span style=\"color: #0087ff; text-decoration-color: #0087ff\">Dense</span>)                   │ (<span style=\"color: #00d7ff; text-decoration-color: #00d7ff\">None</span>, <span style=\"color: #00af00; text-decoration-color: #00af00\">32</span>)             │         <span style=\"color: #00af00; text-decoration-color: #00af00\">2,080</span> │\n",
       "├─────────────────────────────────┼────────────────────────┼───────────────┤\n",
       "│ dropout (<span style=\"color: #0087ff; text-decoration-color: #0087ff\">Dropout</span>)               │ (<span style=\"color: #00d7ff; text-decoration-color: #00d7ff\">None</span>, <span style=\"color: #00af00; text-decoration-color: #00af00\">32</span>)             │             <span style=\"color: #00af00; text-decoration-color: #00af00\">0</span> │\n",
       "├─────────────────────────────────┼────────────────────────┼───────────────┤\n",
       "│ dense_1 (<span style=\"color: #0087ff; text-decoration-color: #0087ff\">Dense</span>)                 │ (<span style=\"color: #00d7ff; text-decoration-color: #00d7ff\">None</span>, <span style=\"color: #00af00; text-decoration-color: #00af00\">1</span>)              │            <span style=\"color: #00af00; text-decoration-color: #00af00\">33</span> │\n",
       "└─────────────────────────────────┴────────────────────────┴───────────────┘\n",
       "</pre>\n"
      ],
      "text/plain": [
       "┏━━━━━━━━━━━━━━━━━━━━━━━━━━━━━━━━━┳━━━━━━━━━━━━━━━━━━━━━━━━┳━━━━━━━━━━━━━━━┓\n",
       "┃\u001b[1m \u001b[0m\u001b[1mLayer (type)                   \u001b[0m\u001b[1m \u001b[0m┃\u001b[1m \u001b[0m\u001b[1mOutput Shape          \u001b[0m\u001b[1m \u001b[0m┃\u001b[1m \u001b[0m\u001b[1m      Param #\u001b[0m\u001b[1m \u001b[0m┃\n",
       "┡━━━━━━━━━━━━━━━━━━━━━━━━━━━━━━━━━╇━━━━━━━━━━━━━━━━━━━━━━━━╇━━━━━━━━━━━━━━━┩\n",
       "│ text_vectorization_7            │ (\u001b[38;5;45mNone\u001b[0m, \u001b[38;5;45mNone\u001b[0m)           │             \u001b[38;5;34m0\u001b[0m │\n",
       "│ (\u001b[38;5;33mTextVectorization\u001b[0m)             │                        │               │\n",
       "├─────────────────────────────────┼────────────────────────┼───────────────┤\n",
       "│ embedding (\u001b[38;5;33mEmbedding\u001b[0m)           │ (\u001b[38;5;45mNone\u001b[0m, \u001b[38;5;45mNone\u001b[0m, \u001b[38;5;34m32\u001b[0m)       │        \u001b[38;5;34m32,000\u001b[0m │\n",
       "├─────────────────────────────────┼────────────────────────┼───────────────┤\n",
       "│ bidirectional (\u001b[38;5;33mBidirectional\u001b[0m)   │ (\u001b[38;5;45mNone\u001b[0m, \u001b[38;5;45mNone\u001b[0m, \u001b[38;5;34m64\u001b[0m)       │        \u001b[38;5;34m16,640\u001b[0m │\n",
       "├─────────────────────────────────┼────────────────────────┼───────────────┤\n",
       "│ bidirectional_1 (\u001b[38;5;33mBidirectional\u001b[0m) │ (\u001b[38;5;45mNone\u001b[0m, \u001b[38;5;45mNone\u001b[0m, \u001b[38;5;34m64\u001b[0m)       │        \u001b[38;5;34m24,832\u001b[0m │\n",
       "├─────────────────────────────────┼────────────────────────┼───────────────┤\n",
       "│ bidirectional_2 (\u001b[38;5;33mBidirectional\u001b[0m) │ (\u001b[38;5;45mNone\u001b[0m, \u001b[38;5;45mNone\u001b[0m, \u001b[38;5;34m64\u001b[0m)       │        \u001b[38;5;34m24,832\u001b[0m │\n",
       "├─────────────────────────────────┼────────────────────────┼───────────────┤\n",
       "│ bidirectional_3 (\u001b[38;5;33mBidirectional\u001b[0m) │ (\u001b[38;5;45mNone\u001b[0m, \u001b[38;5;45mNone\u001b[0m, \u001b[38;5;34m64\u001b[0m)       │        \u001b[38;5;34m24,832\u001b[0m │\n",
       "├─────────────────────────────────┼────────────────────────┼───────────────┤\n",
       "│ bidirectional_4 (\u001b[38;5;33mBidirectional\u001b[0m) │ (\u001b[38;5;45mNone\u001b[0m, \u001b[38;5;34m64\u001b[0m)             │        \u001b[38;5;34m24,832\u001b[0m │\n",
       "├─────────────────────────────────┼────────────────────────┼───────────────┤\n",
       "│ dense (\u001b[38;5;33mDense\u001b[0m)                   │ (\u001b[38;5;45mNone\u001b[0m, \u001b[38;5;34m32\u001b[0m)             │         \u001b[38;5;34m2,080\u001b[0m │\n",
       "├─────────────────────────────────┼────────────────────────┼───────────────┤\n",
       "│ dropout (\u001b[38;5;33mDropout\u001b[0m)               │ (\u001b[38;5;45mNone\u001b[0m, \u001b[38;5;34m32\u001b[0m)             │             \u001b[38;5;34m0\u001b[0m │\n",
       "├─────────────────────────────────┼────────────────────────┼───────────────┤\n",
       "│ dense_1 (\u001b[38;5;33mDense\u001b[0m)                 │ (\u001b[38;5;45mNone\u001b[0m, \u001b[38;5;34m1\u001b[0m)              │            \u001b[38;5;34m33\u001b[0m │\n",
       "└─────────────────────────────────┴────────────────────────┴───────────────┘\n"
      ]
     },
     "metadata": {},
     "output_type": "display_data"
    },
    {
     "data": {
      "text/html": [
       "<pre style=\"white-space:pre;overflow-x:auto;line-height:normal;font-family:Menlo,'DejaVu Sans Mono',consolas,'Courier New',monospace\"><span style=\"font-weight: bold\"> Total params: </span><span style=\"color: #00af00; text-decoration-color: #00af00\">150,081</span> (586.25 KB)\n",
       "</pre>\n"
      ],
      "text/plain": [
       "\u001b[1m Total params: \u001b[0m\u001b[38;5;34m150,081\u001b[0m (586.25 KB)\n"
      ]
     },
     "metadata": {},
     "output_type": "display_data"
    },
    {
     "data": {
      "text/html": [
       "<pre style=\"white-space:pre;overflow-x:auto;line-height:normal;font-family:Menlo,'DejaVu Sans Mono',consolas,'Courier New',monospace\"><span style=\"font-weight: bold\"> Trainable params: </span><span style=\"color: #00af00; text-decoration-color: #00af00\">150,081</span> (586.25 KB)\n",
       "</pre>\n"
      ],
      "text/plain": [
       "\u001b[1m Trainable params: \u001b[0m\u001b[38;5;34m150,081\u001b[0m (586.25 KB)\n"
      ]
     },
     "metadata": {},
     "output_type": "display_data"
    },
    {
     "data": {
      "text/html": [
       "<pre style=\"white-space:pre;overflow-x:auto;line-height:normal;font-family:Menlo,'DejaVu Sans Mono',consolas,'Courier New',monospace\"><span style=\"font-weight: bold\"> Non-trainable params: </span><span style=\"color: #00af00; text-decoration-color: #00af00\">0</span> (0.00 B)\n",
       "</pre>\n"
      ],
      "text/plain": [
       "\u001b[1m Non-trainable params: \u001b[0m\u001b[38;5;34m0\u001b[0m (0.00 B)\n"
      ]
     },
     "metadata": {},
     "output_type": "display_data"
    }
   ],
   "source": [
    "best_model.summary()"
   ]
  },
  {
   "cell_type": "code",
   "execution_count": 290,
   "id": "12f450d4-4907-4023-926a-ff02101167d5",
   "metadata": {},
   "outputs": [
    {
     "name": "stdout",
     "output_type": "stream",
     "text": [
      "Trial 03 summary\n",
      "Hyperparameters:\n",
      "n_units: 32\n",
      "activation: relu\n",
      "optimizer: adam\n",
      "dropout: 0.2\n",
      "learning_rate: 0.001\n",
      "Score: 0.8082731366157532\n"
     ]
    }
   ],
   "source": [
    "krs_tuner.oracle.get_best_trials(num_trials=1)[0].summary()"
   ]
  },
  {
   "cell_type": "markdown",
   "id": "45dd226a-d6a0-4e24-b880-5c43056f3e2f",
   "metadata": {},
   "source": [
    "### Decaying Learning Rate\n",
    "We will try decaying the learning rate as a final improvement attempt. "
   ]
  },
  {
   "cell_type": "code",
   "execution_count": 291,
   "id": "7848193a-72c5-41d2-bfe2-7bec53bcf91d",
   "metadata": {},
   "outputs": [],
   "source": [
    "learning_schedule = tf.keras.optimizers.schedules.ExponentialDecay(\n",
    "    initial_learning_rate = 0.001,\n",
    "    decay_steps = 1000,\n",
    "    decay_rate = 0.96, \n",
    "    staircase = True\n",
    ") "
   ]
  },
  {
   "cell_type": "code",
   "execution_count": 292,
   "id": "1178eb35-7f2d-4ac3-a037-27c2952e7316",
   "metadata": {},
   "outputs": [],
   "source": [
    "final_model = keras.models.Sequential([\n",
    "    encoder,\n",
    "    tf.keras.layers.Embedding(\n",
    "        input_dim = len(encoder.get_vocabulary()),\n",
    "        output_dim = 32),        \n",
    "    ## Hidden Layers \n",
    "    # use_cudnn needs to be False when using masking needs to be set to False\n",
    "    tf.keras.layers.Bidirectional(tf.keras.layers.LSTM(62, return_sequences=True, use_cudnn=False)),\n",
    "    tf.keras.layers.Bidirectional(tf.keras.layers.LSTM(64, return_sequences=True, use_cudnn=False)),\n",
    "    tf.keras.layers.Bidirectional(tf.keras.layers.LSTM(64, return_sequences=True, use_cudnn=False)),\n",
    "    tf.keras.layers.Bidirectional(tf.keras.layers.LSTM(64, return_sequences=True,use_cudnn=False)),\n",
    "    tf.keras.layers.Bidirectional(tf.keras.layers.LSTM(64, use_cudnn=False)), \n",
    "    \n",
    "    tf.keras.layers.Dense(32, activation = 'relu'),\n",
    "    tf.keras.layers.Dropout(0.2),        \n",
    "    \n",
    "    # output layer\n",
    "    keras.layers.Dense(1, activation='sigmoid')])\n",
    "\n",
    "opt = tf.keras.optimizers.Adam(learning_rate = learning_schedule)\n",
    "\n",
    "final_model.compile(optimizer=opt, loss='binary_crossentropy', metrics=['accuracy'])"
   ]
  },
  {
   "cell_type": "markdown",
   "id": "3b677719-8298-4a3a-b900-0f4972ac9e13",
   "metadata": {},
   "source": [
    "Fit and train our model with the training data set:"
   ]
  },
  {
   "cell_type": "code",
   "execution_count": 293,
   "id": "7ac684cd-02c6-434d-bc32-163b8839ddf3",
   "metadata": {},
   "outputs": [
    {
     "name": "stdout",
     "output_type": "stream",
     "text": [
      "Epoch 1/5\n",
      "\u001b[1m96/96\u001b[0m \u001b[32m━━━━━━━━━━━━━━━━━━━━\u001b[0m\u001b[37m\u001b[0m \u001b[1m108s\u001b[0m 968ms/step - accuracy: 0.6114 - loss: 0.6468 - val_accuracy: 0.7827 - val_loss: 0.4979\n",
      "Epoch 2/5\n",
      "\u001b[1m96/96\u001b[0m \u001b[32m━━━━━━━━━━━━━━━━━━━━\u001b[0m\u001b[37m\u001b[0m \u001b[1m75s\u001b[0m 778ms/step - accuracy: 0.8078 - loss: 0.4451 - val_accuracy: 0.8004 - val_loss: 0.4516\n",
      "Epoch 3/5\n",
      "\u001b[1m96/96\u001b[0m \u001b[32m━━━━━━━━━━━━━━━━━━━━\u001b[0m\u001b[37m\u001b[0m \u001b[1m74s\u001b[0m 757ms/step - accuracy: 0.8191 - loss: 0.4186 - val_accuracy: 0.8030 - val_loss: 0.4578\n",
      "Epoch 4/5\n",
      "\u001b[1m96/96\u001b[0m \u001b[32m━━━━━━━━━━━━━━━━━━━━\u001b[0m\u001b[37m\u001b[0m \u001b[1m75s\u001b[0m 780ms/step - accuracy: 0.8279 - loss: 0.4040 - val_accuracy: 0.8030 - val_loss: 0.4499\n",
      "Epoch 5/5\n",
      "\u001b[1m96/96\u001b[0m \u001b[32m━━━━━━━━━━━━━━━━━━━━\u001b[0m\u001b[37m\u001b[0m \u001b[1m76s\u001b[0m 791ms/step - accuracy: 0.8493 - loss: 0.3714 - val_accuracy: 0.8063 - val_loss: 0.4545\n"
     ]
    }
   ],
   "source": [
    "callbacks_list =  [tf.keras.callbacks.EarlyStopping(monitor=\"val_loss\", patience = 5, mode = \"min\")]\n",
    "\n",
    "final_history = final_model.fit(train_dataset, epochs = 5,\n",
    "                    validation_data = validation_dataset,\n",
    "                    callbacks = callbacks_list,\n",
    "                    verbose = 1)"
   ]
  },
  {
   "cell_type": "markdown",
   "id": "966b343b-2bdf-433e-97a4-cdfba965f443",
   "metadata": {},
   "source": [
    "### Final RNN Model Evaluation\n",
    "Validation accuracy of our final model is 0.8066"
   ]
  },
  {
   "cell_type": "code",
   "execution_count": 294,
   "id": "3e605443-90db-4bc5-8863-4b7920cd93f3",
   "metadata": {},
   "outputs": [
    {
     "name": "stdout",
     "output_type": "stream",
     "text": [
      "\u001b[1m24/24\u001b[0m \u001b[32m━━━━━━━━━━━━━━━━━━━━\u001b[0m\u001b[37m\u001b[0m \u001b[1m8s\u001b[0m 323ms/step - accuracy: 0.8066 - loss: 0.4489\n"
     ]
    }
   ],
   "source": [
    "val_loss, val_acc = final_model.evaluate(validation_dataset)"
   ]
  },
  {
   "cell_type": "markdown",
   "id": "c4b83dd7-6142-4908-9c18-75919cca255e",
   "metadata": {},
   "source": [
    "### Accuracy and Loss Plots for Training and Validation"
   ]
  },
  {
   "cell_type": "code",
   "execution_count": 295,
   "id": "f9e0998a-4187-4ca3-aa5a-199ac8c83bc1",
   "metadata": {},
   "outputs": [
    {
     "data": {
      "text/plain": [
       "<function matplotlib.pyplot.show(close=None, block=None)>"
      ]
     },
     "execution_count": 295,
     "metadata": {},
     "output_type": "execute_result"
    },
    {
     "data": {
      "image/png": "[encoded data removed]",
      "text/plain": [
       "<Figure size 1600x800 with 2 Axes>"
      ]
     },
     "metadata": {},
     "output_type": "display_data"
    }
   ],
   "source": [
    "plt.figure(figsize=(16, 8))\n",
    "plt.subplot(1, 2, 1)\n",
    "plt.title('Final RNN Model Accuracy per Epoch')\n",
    "plt.plot(np.arange(1,len(final_history.history['accuracy']) + 1), final_history.history['accuracy'])\n",
    "plt.plot(np.arange(1,len(final_history.history['val_accuracy']) + 1), final_history.history['val_accuracy'])\n",
    "plt.legend(['train', 'validate'], loc='upper left')\n",
    "\n",
    "plt.subplot(1, 2, 2)\n",
    "plt.title('Final RNN Model Loss per Epoch')\n",
    "plt.plot(np.arange(1,len(final_history.history['loss']) + 1), final_history.history['loss'])\n",
    "plt.plot(np.arange(1,len(final_history.history['val_loss']) + 1), final_history.history['val_loss'])\n",
    "plt.legend(['train', 'validate'], loc='upper left')\n",
    "plt.show"
   ]
  },
  {
   "cell_type": "markdown",
   "id": "ea035a82-4109-42e0-903e-1d5be3b1143a",
   "metadata": {},
   "source": [
    "After epoch 2 validation accuracy leveled off."
   ]
  },
  {
   "cell_type": "markdown",
   "id": "28580426-2e1f-4106-81d4-f622897a2494",
   "metadata": {},
   "source": [
    "### Prepare for Submission\n",
    "We will prepare test results for kaggle submission."
   ]
  },
  {
   "cell_type": "code",
   "execution_count": 299,
   "id": "2fe4b3f0-2012-485b-8f2a-9a296d3a2031",
   "metadata": {},
   "outputs": [
    {
     "name": "stdout",
     "output_type": "stream",
     "text": [
      "\u001b[1m51/51\u001b[0m \u001b[32m━━━━━━━━━━━━━━━━━━━━\u001b[0m\u001b[37m\u001b[0m \u001b[1m16s\u001b[0m 304ms/step\n"
     ]
    }
   ],
   "source": [
    "y_final = final_model.predict(test_dataset)\n",
    "y_final = y_final.reshape(y_final.shape[0], )\n",
    "y_final = y_final.tolist()\n",
    "predictions = [round(y_final[i]) for i in range(len(y_final))]\n",
    "submission_df = pd.DataFrame({'id': df_test['id'], 'target': predictions})\n",
    "submission_df.to_csv(\"submission.csv\", index = False)"
   ]
  },
  {
   "cell_type": "markdown",
   "id": "3f7efd9a-dc6c-4a03-a62d-e77ada261cba",
   "metadata": {},
   "source": [
    "## Results\n",
    "Submission of final results to kaggle resulted in a score of 0.79.\n",
    "\n",
    "Accuracy of our models on the validation set can be seen in the table below:\n",
    "| Logistic Regression | RNN  | RNN with hyperparameter tuning | RNN with learning rate decay |\n",
    "|---------------------|------|--------------------------------|------------------------------|\n",
    "| 0.80                | 0.79 | 0.81                           | 0.81                         |\n",
    "                              \n",
    "There is hardly any difference in validation accuracy between our models.\n",
    "\n",
    "Hyperparameter optimization procedure resulted in following hyperparameter values:\n",
    "\n",
    "| hyperparameter | value |\n",
    "|----------------|-------|\n",
    "| number of units| 32    |\n",
    "| activation     | relu  |\n",
    "| optimizer      | adam  |\n",
    "| dropout        | 0.2   |\n",
    "| learning rate  | 0.001 |\n",
    "\n",
    "For our final model we used the hyperparameters from the best model we found during hyperparamater search and added learning rate decay. \n"
   ]
  },
  {
   "cell_type": "markdown",
   "id": "7767b41f-cd80-4424-ab79-11dfc4910a6f",
   "metadata": {},
   "source": [
    "## Conclusion \n",
    "After all the hyperparameter tuning, decaying learning rate, bidirectional return sequences etc our final RNN model did not surpass simple Logistic Regression accuracy. This could be due to the fact that tweets are simply not reliable predictors of disasters, it may be that this is about as good as it gets as far as predictive power of tweet texts. It is also quite possible that given extra time and effort better architectural choices can be made. Considering that it takes such a long time to tune hyperparameters we would need very long time to try out a more exhaustive combination of hyperparameters. \n",
    "\n",
    "BERT or DistilBert could perform better, however support on Mac was dismal. These or other architectural choices like GRU can be explored in the future. "
   ]
  },
  {
   "cell_type": "markdown",
   "id": "7e02c7d2-056a-4699-a1a9-50353013dea4",
   "metadata": {},
   "source": [
    "### References:\n",
    "* https://www.tensorflow.org/text/tutorials/text_classification_rnn\n",
    "* https://medium.com/@upendravijay2/how-does-dropout-help-to-avoid-overfitting-in-neural-networks-91b90fd86b20\n",
    "* https://www.tensorflow.org/guide/keras/working_with_rnns\n",
    "* https://www.tensorflow.org/tutorials/keras/keras_tuner\n",
    "* https://medium.com/when-i-work-data/converting-a-pandas-dataframe-into-a-tensorflow-dataset-752f3783c168"
   ]
  },
  {
   "cell_type": "code",
   "execution_count": null,
   "id": "641b5289-7605-4192-82f3-bf217a49ce80",
   "metadata": {},
   "outputs": [],
   "source": []
  }
 ],
 "metadata": {
  "kernelspec": {
   "display_name": "Python 3 (ipykernel)",
   "language": "python",
   "name": "python3"
  },
  "language_info": {
   "codemirror_mode": {
    "name": "ipython",
    "version": 3
   },
   "file_extension": ".py",
   "mimetype": "text/x-python",
   "name": "python",
   "nbconvert_exporter": "python",
   "pygments_lexer": "ipython3",
   "version": "3.11.8"
  }
 },
 "nbformat": 4,
 "nbformat_minor": 5
}
